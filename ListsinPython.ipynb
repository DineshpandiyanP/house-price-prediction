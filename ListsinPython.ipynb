{
 "cells": [
  {
   "cell_type": "markdown",
   "id": "ab344f20-4154-4acc-afdd-092586ac72a1",
   "metadata": {},
   "source": [
    "# List , Tuples, dictionay & Sets\n",
    "*list is mutable*"
   ]
  },
  {
   "cell_type": "code",
   "execution_count": 3,
   "id": "04e033db-6e72-4db3-9ca7-b00c4349a5d3",
   "metadata": {},
   "outputs": [
    {
     "name": "stdout",
     "output_type": "stream",
     "text": [
      "<class 'list'>\n"
     ]
    }
   ],
   "source": [
    "# defining list using []\n",
    "list1 = [1,2,3,4,10]\n",
    "#       [0,1,2,3,4]\n",
    "print(type(list1))"
   ]
  },
  {
   "cell_type": "code",
   "execution_count": 5,
   "id": "c0ae42e8-61e5-4d56-8ad8-77fb6619c4a2",
   "metadata": {},
   "outputs": [
    {
     "data": {
      "text/plain": [
       "list"
      ]
     },
     "execution_count": 5,
     "metadata": {},
     "output_type": "execute_result"
    }
   ],
   "source": [
    "list2 = [1,2.32,'Ashok',23]\n",
    "type(list2)"
   ]
  },
  {
   "cell_type": "code",
   "execution_count": 7,
   "id": "9545a3f8-6958-4806-9dbc-40104fe769fa",
   "metadata": {},
   "outputs": [
    {
     "data": {
      "text/plain": [
       "3"
      ]
     },
     "execution_count": 7,
     "metadata": {},
     "output_type": "execute_result"
    }
   ],
   "source": [
    "list1[2]"
   ]
  },
  {
   "cell_type": "code",
   "execution_count": 17,
   "id": "4141e25e-e8fa-428f-aa8a-27e1e7beaf37",
   "metadata": {},
   "outputs": [
    {
     "name": "stdout",
     "output_type": "stream",
     "text": [
      "[2, 3, 4]\n"
     ]
    }
   ],
   "source": [
    "# list[start index value : end index value -1]\n",
    "print(list1[1:4])"
   ]
  },
  {
   "cell_type": "code",
   "execution_count": 27,
   "id": "835d0112-f6be-4823-b8e7-4ebb94283798",
   "metadata": {},
   "outputs": [
    {
     "data": {
      "text/plain": [
       "10"
      ]
     },
     "execution_count": 27,
     "metadata": {},
     "output_type": "execute_result"
    }
   ],
   "source": [
    "list1[-1]"
   ]
  },
  {
   "cell_type": "code",
   "execution_count": 29,
   "id": "b8d64586-5ac6-42ce-b9ef-220d2c068f94",
   "metadata": {},
   "outputs": [
    {
     "data": {
      "text/plain": [
       "1"
      ]
     },
     "execution_count": 29,
     "metadata": {},
     "output_type": "execute_result"
    }
   ],
   "source": [
    "list1[0]"
   ]
  },
  {
   "cell_type": "code",
   "execution_count": 31,
   "id": "7c8c4ed1-5ae2-4088-9d49-f9341418cf48",
   "metadata": {},
   "outputs": [
    {
     "data": {
      "text/plain": [
       "[1, 10]"
      ]
     },
     "execution_count": 31,
     "metadata": {},
     "output_type": "execute_result"
    }
   ],
   "source": [
    "l2 = [list1[0],list1[-1]]\n",
    "l2"
   ]
  },
  {
   "cell_type": "code",
   "execution_count": 33,
   "id": "5ff42794-c182-4ecd-a2d6-e3b03c72803d",
   "metadata": {},
   "outputs": [
    {
     "name": "stdout",
     "output_type": "stream",
     "text": [
      "[1, 10]\n"
     ]
    }
   ],
   "source": [
    "print([list1[0],list1[-1]])"
   ]
  },
  {
   "cell_type": "code",
   "execution_count": 43,
   "id": "3e2c1819-108a-45af-b10f-ed8dff8ccbc3",
   "metadata": {},
   "outputs": [
    {
     "name": "stdout",
     "output_type": "stream",
     "text": [
      "[[1, 2], [4, 10]]\n"
     ]
    }
   ],
   "source": [
    "# print first & last 2 values from a list \n",
    "print([list1[0:2],list1[-2:]])"
   ]
  },
  {
   "cell_type": "code",
   "execution_count": 47,
   "id": "4c36bdfc-7caf-4677-8c65-98767c6b9b50",
   "metadata": {},
   "outputs": [
    {
     "name": "stdout",
     "output_type": "stream",
     "text": [
      "[1, 2, 3, 4, 10]\n"
     ]
    }
   ],
   "source": [
    "# cloning the list \n",
    "list3 = list1\n",
    "print(list3)"
   ]
  },
  {
   "cell_type": "code",
   "execution_count": 50,
   "id": "04d2c76d-fd97-4af2-939e-682c28b48071",
   "metadata": {},
   "outputs": [
    {
     "data": {
      "text/plain": [
       "[1, 2, 333, 4, 10]"
      ]
     },
     "execution_count": 50,
     "metadata": {},
     "output_type": "execute_result"
    }
   ],
   "source": [
    "list1[2] = 333\n",
    "list1"
   ]
  },
  {
   "cell_type": "code",
   "execution_count": 52,
   "id": "358d6da9-0136-4010-9b22-cade2d3fad14",
   "metadata": {},
   "outputs": [
    {
     "data": {
      "text/plain": [
       "[1, 2, 333, 4, 10, 100]"
      ]
     },
     "execution_count": 52,
     "metadata": {},
     "output_type": "execute_result"
    }
   ],
   "source": [
    "list1.append(100,)\n",
    "list1"
   ]
  },
  {
   "cell_type": "code",
   "execution_count": 62,
   "id": "e6356452-0d97-4936-9aa8-823b53f50481",
   "metadata": {},
   "outputs": [],
   "source": [
    "del(list1[2])"
   ]
  },
  {
   "cell_type": "code",
   "execution_count": 60,
   "id": "45cfe2e6-9f64-4a81-9b21-e8f77d585afc",
   "metadata": {},
   "outputs": [
    {
     "data": {
      "text/plain": [
       "[1, 2, 333, 10, 100]"
      ]
     },
     "execution_count": 60,
     "metadata": {},
     "output_type": "execute_result"
    }
   ],
   "source": [
    "list1"
   ]
  },
  {
   "cell_type": "code",
   "execution_count": 64,
   "id": "2f3f7a7c-c3c9-47c7-b5ef-757645210fbd",
   "metadata": {},
   "outputs": [
    {
     "data": {
      "text/plain": [
       "[1, 2, 10, 100]"
      ]
     },
     "execution_count": 64,
     "metadata": {},
     "output_type": "execute_result"
    }
   ],
   "source": [
    "list1"
   ]
  },
  {
   "cell_type": "code",
   "execution_count": 70,
   "id": "2c0d8e32-c3c8-47cd-9137-f30cf83aa6d5",
   "metadata": {},
   "outputs": [
    {
     "data": {
      "text/plain": [
       "[1, 2, 3, 3, 3, 10, 100]"
      ]
     },
     "execution_count": 70,
     "metadata": {},
     "output_type": "execute_result"
    }
   ],
   "source": [
    "# list1.insert(indexvalue,the  new value )\n",
    "list1.insert(2,3)\n",
    "list1"
   ]
  },
  {
   "cell_type": "code",
   "execution_count": 74,
   "id": "44daa455-9f8b-4692-8d9c-ff36533c56e5",
   "metadata": {},
   "outputs": [],
   "source": [
    "del(list1[3])"
   ]
  },
  {
   "cell_type": "code",
   "execution_count": 76,
   "id": "33d2df22-1cdb-4958-8b42-5cfb99a46d1b",
   "metadata": {},
   "outputs": [
    {
     "data": {
      "text/plain": [
       "[1, 2, 3, 10, 100]"
      ]
     },
     "execution_count": 76,
     "metadata": {},
     "output_type": "execute_result"
    }
   ],
   "source": [
    "list1"
   ]
  },
  {
   "cell_type": "code",
   "execution_count": 80,
   "id": "bf8cc9a1-d559-4653-bf96-ad2c14284dd1",
   "metadata": {},
   "outputs": [
    {
     "data": {
      "text/plain": [
       "[1, 2, 3, 11, 9, 10, 100]"
      ]
     },
     "execution_count": 80,
     "metadata": {},
     "output_type": "execute_result"
    }
   ],
   "source": [
    "list1.insert(-2,9)\n",
    "list1"
   ]
  },
  {
   "cell_type": "code",
   "execution_count": 82,
   "id": "699745d2-9487-4194-b2a7-5b55e8e19e10",
   "metadata": {},
   "outputs": [
    {
     "data": {
      "text/plain": [
       "[[1, 2, 3, 11, 9, 10, 100], [1, 2.32, 'Ashok', 23]]"
      ]
     },
     "execution_count": 82,
     "metadata": {},
     "output_type": "execute_result"
    }
   ],
   "source": [
    "# nested list\n",
    "l11 = [list1,list2]\n",
    "l11"
   ]
  },
  {
   "cell_type": "code",
   "execution_count": 90,
   "id": "d9c8b6a3-8a31-4198-abf9-09631434f880",
   "metadata": {},
   "outputs": [
    {
     "data": {
      "text/plain": [
       "2.32"
      ]
     },
     "execution_count": 90,
     "metadata": {},
     "output_type": "execute_result"
    }
   ],
   "source": [
    "l11[1][1]"
   ]
  },
  {
   "cell_type": "code",
   "execution_count": 94,
   "id": "47bce9a9-8ba9-4fe8-9fdc-8142774ba606",
   "metadata": {},
   "outputs": [
    {
     "data": {
      "text/plain": [
       "[[1, 2, 3], [4, 5, 6]]"
      ]
     },
     "execution_count": 94,
     "metadata": {},
     "output_type": "execute_result"
    }
   ],
   "source": [
    "import copy\n",
    "# shallow copy \n",
    "original_list = [[1,2,3],[4,5,6]]\n",
    "original_list"
   ]
  },
  {
   "cell_type": "code",
   "execution_count": 96,
   "id": "1133e771-4a33-427e-a382-867c06e25c45",
   "metadata": {},
   "outputs": [
    {
     "data": {
      "text/plain": [
       "[[1, 2, 3], [4, 5, 6]]"
      ]
     },
     "execution_count": 96,
     "metadata": {},
     "output_type": "execute_result"
    }
   ],
   "source": [
    "shallow_cy = copy.copy(original_list)\n",
    "shallow_cy"
   ]
  },
  {
   "cell_type": "code",
   "execution_count": 98,
   "id": "2f7ec292-a48f-48b0-b747-693696d99828",
   "metadata": {},
   "outputs": [
    {
     "data": {
      "text/plain": [
       "[[99, 2, 3], [4, 5, 6]]"
      ]
     },
     "execution_count": 98,
     "metadata": {},
     "output_type": "execute_result"
    }
   ],
   "source": [
    "shallow_cy[0][0] = 99\n",
    "shallow_cy\n"
   ]
  },
  {
   "cell_type": "code",
   "execution_count": 100,
   "id": "4348918b-abf6-4757-b2b9-965498c72a4f",
   "metadata": {},
   "outputs": [
    {
     "data": {
      "text/plain": [
       "[[99, 2, 3], [4, 5, 6]]"
      ]
     },
     "execution_count": 100,
     "metadata": {},
     "output_type": "execute_result"
    }
   ],
   "source": [
    "original_list "
   ]
  },
  {
   "cell_type": "code",
   "execution_count": null,
   "id": "a1ce322d-60be-412f-a95a-b874f26d8d7e",
   "metadata": {},
   "outputs": [],
   "source": []
  },
  {
   "cell_type": "code",
   "execution_count": 104,
   "id": "2d0c2cd1-4bef-42b6-8a02-850a15f286cb",
   "metadata": {},
   "outputs": [
    {
     "data": {
      "text/plain": [
       "[[1, 2, 3], [4, 5, 6]]"
      ]
     },
     "execution_count": 104,
     "metadata": {},
     "output_type": "execute_result"
    }
   ],
   "source": [
    "# deep copy \n",
    "original_list = [[1,2,3],[4,5,6]]\n",
    "original_list\n",
    "deep_copy = copy.deepcopy(original_list)\n",
    "deep_copy"
   ]
  },
  {
   "cell_type": "code",
   "execution_count": 106,
   "id": "29c4cfa8-c220-4771-ae78-80b7f9bd7eae",
   "metadata": {},
   "outputs": [
    {
     "data": {
      "text/plain": [
       "[[99, 2, 3], [4, 5, 6]]"
      ]
     },
     "execution_count": 106,
     "metadata": {},
     "output_type": "execute_result"
    }
   ],
   "source": [
    "deep_copy[0][0]=99\n",
    "deep_copy"
   ]
  },
  {
   "cell_type": "code",
   "execution_count": 108,
   "id": "2a5594bb-2172-4a98-acfe-f7362b0f658e",
   "metadata": {},
   "outputs": [
    {
     "data": {
      "text/plain": [
       "[[1, 2, 3], [4, 5, 6]]"
      ]
     },
     "execution_count": 108,
     "metadata": {},
     "output_type": "execute_result"
    }
   ],
   "source": [
    "original_list"
   ]
  },
  {
   "cell_type": "code",
   "execution_count": 110,
   "id": "48872cb3-dd42-43f1-ac3d-2d3145cf9ad8",
   "metadata": {},
   "outputs": [
    {
     "data": {
      "text/plain": [
       "[1, 2, 3, 11, 9, 10, 100]"
      ]
     },
     "execution_count": 110,
     "metadata": {},
     "output_type": "execute_result"
    }
   ],
   "source": [
    "list1"
   ]
  },
  {
   "cell_type": "code",
   "execution_count": 116,
   "id": "2a1d23f5-dc5d-435c-9942-68949007e943",
   "metadata": {},
   "outputs": [],
   "source": [
    "del(list1[0:3])"
   ]
  },
  {
   "cell_type": "code",
   "execution_count": 118,
   "id": "be18e0ab-4614-4352-b9a9-68ce4bb738fc",
   "metadata": {},
   "outputs": [
    {
     "data": {
      "text/plain": [
       "[11, 9, 10, 100]"
      ]
     },
     "execution_count": 118,
     "metadata": {},
     "output_type": "execute_result"
    }
   ],
   "source": [
    "list1"
   ]
  },
  {
   "cell_type": "code",
   "execution_count": 120,
   "id": "fa68cb22-8fda-484c-a250-9009b4e0e4fd",
   "metadata": {},
   "outputs": [
    {
     "data": {
      "text/plain": [
       "[8, 99, 10, 100]"
      ]
     },
     "execution_count": 120,
     "metadata": {},
     "output_type": "execute_result"
    }
   ],
   "source": [
    "list1[0:2] = [8,99]\n",
    "list1\n"
   ]
  },
  {
   "cell_type": "code",
   "execution_count": 122,
   "id": "8d987856-5efa-4e3e-b962-9100742dd741",
   "metadata": {},
   "outputs": [
    {
     "data": {
      "text/plain": [
       "['2024-11-06', '2024-11-05']"
      ]
     },
     "execution_count": 122,
     "metadata": {},
     "output_type": "execute_result"
    }
   ],
   "source": [
    "schedule = [\"2024-11-06\", \"2024-11-05\"]\n",
    "schedule"
   ]
  },
  {
   "cell_type": "code",
   "execution_count": 124,
   "id": "60d56106-54a3-419a-a422-fc513bdd5904",
   "metadata": {},
   "outputs": [
    {
     "data": {
      "text/plain": [
       "[8, 99, 10, 100]"
      ]
     },
     "execution_count": 124,
     "metadata": {},
     "output_type": "execute_result"
    }
   ],
   "source": [
    "list1"
   ]
  },
  {
   "cell_type": "code",
   "execution_count": 126,
   "id": "43ef6ed5-5907-4e32-87a9-4214c06f95ab",
   "metadata": {},
   "outputs": [
    {
     "data": {
      "text/plain": [
       "[99, 100]"
      ]
     },
     "execution_count": 126,
     "metadata": {},
     "output_type": "execute_result"
    }
   ],
   "source": [
    "# list1[start index: end inde -1 : jump]\n",
    "list1[1:5:2]"
   ]
  },
  {
   "cell_type": "code",
   "execution_count": 149,
   "id": "d53f07aa-a515-4599-bbb4-c821bf18a25d",
   "metadata": {},
   "outputs": [
    {
     "name": "stdout",
     "output_type": "stream",
     "text": [
      "<class 'list'>\n"
     ]
    }
   ],
   "source": [
    "# defining list using []\n",
    "list1 = [1,2,3,4,10]\n",
    "#       [0,1,2,3,4]\n",
    "print(type(list1))"
   ]
  },
  {
   "cell_type": "code",
   "execution_count": 189,
   "id": "ad18c68b-70c5-4e38-a2c4-48a82231b502",
   "metadata": {},
   "outputs": [
    {
     "data": {
      "text/plain": [
       "[1, 2, 3, 4, 10]"
      ]
     },
     "execution_count": 189,
     "metadata": {},
     "output_type": "execute_result"
    }
   ],
   "source": [
    "list1 "
   ]
  },
  {
   "cell_type": "code",
   "execution_count": 153,
   "id": "8ac38a08-4d6a-4fa9-8bb2-cc63de5b0df5",
   "metadata": {},
   "outputs": [
    {
     "name": "stdout",
     "output_type": "stream",
     "text": [
      "2\n",
      "4\n",
      "6\n",
      "8\n",
      "20\n"
     ]
    }
   ],
   "source": [
    "for i in list1:\n",
    "    print(i * 2)"
   ]
  },
  {
   "cell_type": "code",
   "execution_count": 203,
   "id": "ebd3d9eb-500e-48ed-964f-69041d99501e",
   "metadata": {},
   "outputs": [
    {
     "name": "stdout",
     "output_type": "stream",
     "text": [
      "[2, 4, 6, 8, 20]\n"
     ]
    }
   ],
   "source": [
    "result = []\n",
    "for i in list1:\n",
    "    result.append(i * 2)\n",
    "print(result)"
   ]
  },
  {
   "cell_type": "code",
   "execution_count": 199,
   "id": "4b39d461-4eac-4d94-8c31-cadd04bf41fc",
   "metadata": {},
   "outputs": [
    {
     "data": {
      "text/plain": [
       "[2, 4, 6, 8, 20]"
      ]
     },
     "execution_count": 199,
     "metadata": {},
     "output_type": "execute_result"
    }
   ],
   "source": [
    "# LIST COMPREHENSION\n",
    "newlist = [i* 2 for i in list1]\n",
    "newlist"
   ]
  },
  {
   "cell_type": "code",
   "execution_count": 159,
   "id": "0ae79047-7cb9-4c6d-87c6-9de029ba6b11",
   "metadata": {},
   "outputs": [
    {
     "data": {
      "text/plain": [
       "[1, 2, 3, 4, 10]"
      ]
     },
     "execution_count": 159,
     "metadata": {},
     "output_type": "execute_result"
    }
   ],
   "source": [
    "list1"
   ]
  },
  {
   "cell_type": "code",
   "execution_count": 173,
   "id": "59cd6a90-00be-4faf-8bcb-e016df9e11df",
   "metadata": {},
   "outputs": [
    {
     "name": "stdout",
     "output_type": "stream",
     "text": [
      "[1, 2, 3, 4, 5, 6, 7, 8, 9, 10]\n"
     ]
    }
   ],
   "source": [
    "print(list(range(1,11)))"
   ]
  },
  {
   "cell_type": "code",
   "execution_count": 175,
   "id": "a6d1a49c-1b57-4773-9dae-e91f95ecc7cb",
   "metadata": {},
   "outputs": [
    {
     "name": "stdout",
     "output_type": "stream",
     "text": [
      "[0, 1, 2, 3, 4, 5, 6, 7, 8, 9, 10]\n"
     ]
    }
   ],
   "source": [
    "print(list(range(11)))"
   ]
  },
  {
   "cell_type": "code",
   "execution_count": 177,
   "id": "e6f99814-a3b9-42e3-a445-14d68419b423",
   "metadata": {},
   "outputs": [
    {
     "data": {
      "text/plain": [
       "5"
      ]
     },
     "execution_count": 177,
     "metadata": {},
     "output_type": "execute_result"
    }
   ],
   "source": [
    "len(list1)"
   ]
  },
  {
   "cell_type": "code",
   "execution_count": 187,
   "id": "9d6dc04e-b625-4376-91a8-d420d9083519",
   "metadata": {},
   "outputs": [
    {
     "name": "stdout",
     "output_type": "stream",
     "text": [
      "range(0, 5)\n"
     ]
    }
   ],
   "source": [
    "print(range(5))"
   ]
  },
  {
   "cell_type": "code",
   "execution_count": 185,
   "id": "16f8203e-ca29-41c8-b75b-67b1e876a17b",
   "metadata": {},
   "outputs": [
    {
     "name": "stdout",
     "output_type": "stream",
     "text": [
      "[0, 1, 2, 3, 4]\n"
     ]
    }
   ],
   "source": [
    "print(list(range(5)))"
   ]
  },
  {
   "cell_type": "code",
   "execution_count": 181,
   "id": "09cade54-358d-4cbc-af44-327cb149413f",
   "metadata": {},
   "outputs": [
    {
     "name": "stdout",
     "output_type": "stream",
     "text": [
      "[0, 2, 4, 6, 8]\n"
     ]
    }
   ],
   "source": [
    "result = []\n",
    "for i in range(len(list1)):\n",
    "    result.append(i * 2)\n",
    "print(result)"
   ]
  },
  {
   "cell_type": "code",
   "execution_count": 191,
   "id": "1d9bdbbd-09e3-44b3-80a4-b5cd3a0975be",
   "metadata": {},
   "outputs": [
    {
     "data": {
      "text/plain": [
       "[1, 2, 3, 4, 10]"
      ]
     },
     "execution_count": 191,
     "metadata": {},
     "output_type": "execute_result"
    }
   ],
   "source": [
    "# how to display only the even nnumbers\n",
    "list1"
   ]
  },
  {
   "cell_type": "code",
   "execution_count": 195,
   "id": "99fd07dd-b922-4ff6-8193-59dc962a20a7",
   "metadata": {},
   "outputs": [
    {
     "name": "stdout",
     "output_type": "stream",
     "text": [
      "2\n",
      "4\n",
      "10\n"
     ]
    }
   ],
   "source": [
    "# HOW TO PRINT ONLY THE EVEN NUMBERS FROM A LIST \n",
    "for i in list1:\n",
    "    if i % 2 == 0:\n",
    "        print(i)\n",
    "    else:\n",
    "        pass"
   ]
  },
  {
   "cell_type": "code",
   "execution_count": 205,
   "id": "1e137e93-d3b6-4167-93fa-bea9dc0a7eaf",
   "metadata": {},
   "outputs": [
    {
     "data": {
      "text/plain": [
       "[4, 8, 20]"
      ]
     },
     "execution_count": 205,
     "metadata": {},
     "output_type": "execute_result"
    }
   ],
   "source": [
    "# LIST COMPREHENSION\n",
    "newlist = [i* 2 for i in list1 if i % 2 == 0]\n",
    "newlist"
   ]
  },
  {
   "cell_type": "code",
   "execution_count": null,
   "id": "19c99a61-ca86-4890-8c21-b439267b6258",
   "metadata": {},
   "outputs": [],
   "source": []
  }
 ],
 "metadata": {
  "kernelspec": {
   "display_name": "Python 3 (ipykernel)",
   "language": "python",
   "name": "python3"
  },
  "language_info": {
   "codemirror_mode": {
    "name": "ipython",
    "version": 3
   },
   "file_extension": ".py",
   "mimetype": "text/x-python",
   "name": "python",
   "nbconvert_exporter": "python",
   "pygments_lexer": "ipython3",
   "version": "3.12.4"
  }
 },
 "nbformat": 4,
 "nbformat_minor": 5
}
