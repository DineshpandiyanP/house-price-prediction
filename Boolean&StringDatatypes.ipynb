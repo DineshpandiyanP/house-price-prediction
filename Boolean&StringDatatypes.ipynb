{
 "cells": [
  {
   "cell_type": "markdown",
   "id": "248b546e-5266-4525-bf5d-2538990bef20",
   "metadata": {},
   "source": [
    "# Exploring boolean data type with different examples"
   ]
  },
  {
   "cell_type": "code",
   "execution_count": 1,
   "id": "2efd9827-f14b-42e6-ac85-23697784bdbf",
   "metadata": {},
   "outputs": [
    {
     "name": "stdout",
     "output_type": "stream",
     "text": [
      "<class 'int'>\n",
      "<class 'float'>\n",
      "<class 'bool'>\n"
     ]
    }
   ],
   "source": [
    "x = 10\n",
    "y = 10.5 \n",
    "is_active = True\n",
    "print(type(x))\n",
    "print(type(y))\n",
    "print(type(is_active))"
   ]
  },
  {
   "cell_type": "code",
   "execution_count": 3,
   "id": "19b29efa-28dc-43fc-9f73-641b85e3b198",
   "metadata": {},
   "outputs": [
    {
     "name": "stdout",
     "output_type": "stream",
     "text": [
      "False\n",
      "True\n"
     ]
    }
   ],
   "source": [
    "print(x > y)\n",
    "print(x < y)"
   ]
  },
  {
   "cell_type": "code",
   "execution_count": 5,
   "id": "81dbebe4-3f84-4980-8c6c-1aa5011077ac",
   "metadata": {},
   "outputs": [
    {
     "name": "stdout",
     "output_type": "stream",
     "text": [
      "Eligible to vote\n"
     ]
    }
   ],
   "source": [
    "age = 18\n",
    "if age >= 18:\n",
    "    print(\"Eligible to vote\")\n",
    "else:\n",
    "    print(\"Not eligible to vote\")"
   ]
  },
  {
   "cell_type": "markdown",
   "id": "633a4964-bba0-45b7-ab47-fdb47b0430a5",
   "metadata": {},
   "source": [
    "# Using logical operators (and, or, not)"
   ]
  },
  {
   "cell_type": "code",
   "execution_count": 7,
   "id": "72560ec3-4cb5-4443-b716-7876da5c823b",
   "metadata": {},
   "outputs": [
    {
     "name": "stdout",
     "output_type": "stream",
     "text": [
      "False\n"
     ]
    }
   ],
   "source": [
    "is_adult = True\n",
    "has_id = False\n",
    "print( is_adult and has_id)"
   ]
  },
  {
   "cell_type": "code",
   "execution_count": 9,
   "id": "47402613-37bf-4ad0-b079-ab15a873c13f",
   "metadata": {},
   "outputs": [
    {
     "name": "stdout",
     "output_type": "stream",
     "text": [
      "False\n"
     ]
    }
   ],
   "source": [
    "print(not is_adult)"
   ]
  },
  {
   "cell_type": "code",
   "execution_count": 11,
   "id": "15951bf7-99db-4ef8-ba35-fe1ef697a994",
   "metadata": {},
   "outputs": [
    {
     "name": "stdout",
     "output_type": "stream",
     "text": [
      "True\n"
     ]
    }
   ],
   "source": [
    "print( is_adult or has_id)"
   ]
  },
  {
   "cell_type": "markdown",
   "id": "d99ae121-14af-413b-b157-9422fb483395",
   "metadata": {},
   "source": [
    "# Boolean from function"
   ]
  },
  {
   "cell_type": "code",
   "execution_count": 19,
   "id": "970e74e9-bc30-49a2-87b1-17d76646095a",
   "metadata": {},
   "outputs": [
    {
     "name": "stdout",
     "output_type": "stream",
     "text": [
      "True\n",
      "False\n"
     ]
    }
   ],
   "source": [
    "\n",
    "def is_even(number):\n",
    "    return number % 2 == 0\n",
    "\n",
    "print(is_even(4))\n",
    "print(is_even(7))"
   ]
  },
  {
   "cell_type": "code",
   "execution_count": 21,
   "id": "1659cf62-d89a-47e8-a70f-7024d2020f79",
   "metadata": {},
   "outputs": [
    {
     "name": "stdout",
     "output_type": "stream",
     "text": [
      "10 20 30\n"
     ]
    }
   ],
   "source": [
    "x,y,z = 10,20,30\n",
    "print(x,y,z)"
   ]
  },
  {
   "cell_type": "markdown",
   "id": "fe52dddd-b835-4183-964c-675d17a8afd7",
   "metadata": {},
   "source": [
    "# String Data type "
   ]
  },
  {
   "cell_type": "code",
   "execution_count": 24,
   "id": "4d784595-0bda-42a2-8bc4-71ba84d537d1",
   "metadata": {},
   "outputs": [
    {
     "name": "stdout",
     "output_type": "stream",
     "text": [
      "John\n",
      "Hello World\n"
     ]
    }
   ],
   "source": [
    "name = \"John\"\n",
    "greeting = 'Hello World'\n",
    "print(name)\n",
    "print(greeting)"
   ]
  },
  {
   "cell_type": "code",
   "execution_count": 32,
   "id": "c0764b4a-2bd1-444f-bf36-05f2fe1bfb96",
   "metadata": {},
   "outputs": [
    {
     "name": "stdout",
     "output_type": "stream",
     "text": [
      " this is a multiline  string asdfasdf  ktest  asdkfjsdkjf asfdjasdf   asdfjsadfj   asjdfkasjdf asdf ads fas dfjadsfjasd fsa dfads f asdf\n"
     ]
    }
   ],
   "source": [
    "\"\"\"\n",
    "multi line comments can be specified with 3 \"\n",
    "\"\"\"\n",
    "mulltiline_text =\"\"\" this is a multiline  string asdfasdf  ktest  asdkfjsdkjf asfdjasdf   asdfjsadfj   asjdfkasjdf asdf ads fas dfjadsfjasd fsa dfads f asdf\"\"\"\n",
    "print(mulltiline_text)"
   ]
  },
  {
   "cell_type": "markdown",
   "id": "5f0c4104-e273-4752-8030-53ba334c9daf",
   "metadata": {},
   "source": [
    "## how to access characters in a string"
   ]
  },
  {
   "cell_type": "code",
   "execution_count": 38,
   "id": "0c25cb45-5b55-4ddc-bede-201e03f49d51",
   "metadata": {},
   "outputs": [
    {
     "name": "stdout",
     "output_type": "stream",
     "text": [
      "P\n",
      "n\n"
     ]
    }
   ],
   "source": [
    "word = 'Python'\n",
    "print(word[0])\n",
    "print(word[-1])"
   ]
  },
  {
   "cell_type": "code",
   "execution_count": 40,
   "id": "a03e8ab7-5a15-48cd-9f7d-d324e5ae0868",
   "metadata": {},
   "outputs": [
    {
     "name": "stdout",
     "output_type": "stream",
     "text": [
      "n\n"
     ]
    }
   ],
   "source": [
    "print(word[5])"
   ]
  },
  {
   "cell_type": "markdown",
   "id": "8adb8a38-2068-425f-b988-9c34830fa7a6",
   "metadata": {},
   "source": [
    "# Slicing the strings"
   ]
  },
  {
   "cell_type": "code",
   "execution_count": 45,
   "id": "60b588c5-3568-4663-a9ee-629f1d4c39c4",
   "metadata": {},
   "outputs": [
    {
     "name": "stdout",
     "output_type": "stream",
     "text": [
      "Pytho\n"
     ]
    }
   ],
   "source": [
    "# word[starting index value : ending index value -1 ]\n",
    "print(word[0:5])"
   ]
  },
  {
   "cell_type": "code",
   "execution_count": 47,
   "id": "257aec27-f53d-4bb8-867a-7983247b70d9",
   "metadata": {},
   "outputs": [
    {
     "name": "stdout",
     "output_type": "stream",
     "text": [
      "Pytho\n"
     ]
    }
   ],
   "source": [
    "print(word[:5])"
   ]
  },
  {
   "cell_type": "code",
   "execution_count": 49,
   "id": "60df3a82-5d38-41eb-adc6-46283a73ede8",
   "metadata": {},
   "outputs": [
    {
     "name": "stdout",
     "output_type": "stream",
     "text": [
      "Python\n"
     ]
    }
   ],
   "source": [
    "print(word[0:])"
   ]
  },
  {
   "cell_type": "code",
   "execution_count": 51,
   "id": "286a0c19-1e47-46eb-811b-f2aa7ba16860",
   "metadata": {},
   "outputs": [
    {
     "data": {
      "text/plain": [
       "'Python'"
      ]
     },
     "execution_count": 51,
     "metadata": {},
     "output_type": "execute_result"
    }
   ],
   "source": [
    "word"
   ]
  },
  {
   "cell_type": "markdown",
   "id": "d7638976-2cb8-4b11-a33d-66261912880e",
   "metadata": {},
   "source": [
    "# Contactenating and repeating strings"
   ]
  },
  {
   "cell_type": "code",
   "execution_count": 72,
   "id": "106706db-9255-4756-9420-27bd56a281f1",
   "metadata": {},
   "outputs": [
    {
     "name": "stdout",
     "output_type": "stream",
     "text": [
      "First name of the customer is  Ashok Kumar\n"
     ]
    }
   ],
   "source": [
    "first_name = \"Ashok\"\n",
    "last_name = \"Kumar\"\n",
    "full_name = first_name + \" \" + last_name\n",
    "print(\"First name of the customer is \", full_name)"
   ]
  },
  {
   "cell_type": "code",
   "execution_count": 60,
   "id": "7ac6ed4d-0f81-4544-8931-91dd397c9b1e",
   "metadata": {},
   "outputs": [
    {
     "name": "stdout",
     "output_type": "stream",
     "text": [
      "Hello! Hello! Hello! \n"
     ]
    }
   ],
   "source": [
    "repeat_text = \"Hello! \" * 3\n",
    "print(repeat_text)"
   ]
  },
  {
   "cell_type": "code",
   "execution_count": null,
   "id": "21287279-2aec-41ed-8fa9-f7dc7291a653",
   "metadata": {},
   "outputs": [],
   "source": [
    "# Common string methods "
   ]
  },
  {
   "cell_type": "code",
   "execution_count": 68,
   "id": "fc9db79b-faff-4ec4-8716-24da201060e8",
   "metadata": {},
   "outputs": [
    {
     "name": "stdout",
     "output_type": "stream",
     "text": [
      "hello world !\n",
      "HELLO WORLD !\n",
      "6\n",
      "Hello Welcome to the world of Python !\n"
     ]
    }
   ],
   "source": [
    "text = \"Hello World !\"\n",
    "# Convert to lower case \n",
    "print(text.lower())\n",
    "# Convert to upper case \n",
    "print(text.upper())\n",
    "# find the index of a substring\n",
    "print(text.find(\"World\"))\n",
    "\n",
    "# replace a substring\n",
    "print(text.replace(\"World\", \"Welcome to the world of Python\"))"
   ]
  },
  {
   "cell_type": "code",
   "execution_count": null,
   "id": "34657a03-0ae8-437d-808a-1a3ee12bef95",
   "metadata": {},
   "outputs": [],
   "source": [
    "# f string format "
   ]
  },
  {
   "cell_type": "code",
   "execution_count": 78,
   "id": "170da926-2426-4eaa-9c94-6adc89415a0b",
   "metadata": {},
   "outputs": [
    {
     "name": "stdout",
     "output_type": "stream",
     "text": [
      "First name of the customer is  Ashok and his last name is  Kumar\n"
     ]
    }
   ],
   "source": [
    "first_name = \"Ashok\"\n",
    "last_name = \"Kumar\"\n",
    "full_name = first_name + \" \" + last_name\n",
    "print(\"First name of the customer is \", first_name, \"and his last name is \", last_name )"
   ]
  },
  {
   "cell_type": "code",
   "execution_count": 80,
   "id": "d1e4a8a5-65af-4218-8cd9-f0aa32d0dd72",
   "metadata": {},
   "outputs": [
    {
     "name": "stdout",
     "output_type": "stream",
     "text": [
      "First name of the customer is Ashok and his last name is Kumar \n"
     ]
    }
   ],
   "source": [
    "print(f\"First name of the customer is {first_name} and his last name is {last_name} \")"
   ]
  },
  {
   "cell_type": "code",
   "execution_count": 82,
   "id": "ac9fcc54-e597-471d-8a2d-f0877ae7678e",
   "metadata": {},
   "outputs": [
    {
     "name": "stdout",
     "output_type": "stream",
     "text": [
      "5\n"
     ]
    }
   ],
   "source": [
    "print(len(first_name))"
   ]
  },
  {
   "cell_type": "code",
   "execution_count": 108,
   "id": "23b9989c-4e9e-4114-bc63-5540a4da18f3",
   "metadata": {},
   "outputs": [
    {
     "name": "stdout",
     "output_type": "stream",
     "text": [
      "Hello ! '\"Welcome to the world of Python\"\n"
     ]
    }
   ],
   "source": [
    "# \\ is an escape sequence\n",
    "print(\"Hello ! '\\\"Welcome to the world of Python\\\"\")"
   ]
  },
  {
   "cell_type": "code",
   "execution_count": null,
   "id": "45ca79b5-e6c1-4f33-a621-5efce3c938fb",
   "metadata": {},
   "outputs": [],
   "source": [
    "# type conversions"
   ]
  },
  {
   "cell_type": "code",
   "execution_count": 134,
   "id": "deaf831a-0a46-44e6-a1f8-fb91db238cfe",
   "metadata": {},
   "outputs": [
    {
     "data": {
      "text/plain": [
       "'Ashok'"
      ]
     },
     "execution_count": 134,
     "metadata": {},
     "output_type": "execute_result"
    }
   ],
   "source": [
    "first_name"
   ]
  },
  {
   "cell_type": "code",
   "execution_count": 140,
   "id": "f8ea44bc-1f98-45b9-978c-d6d02de5d779",
   "metadata": {},
   "outputs": [],
   "source": [
    "letters = [\"p\",\"y\",\"t\",\"h\",\"o\",\"n\"]\n",
    "word = \"\".join(letters)"
   ]
  },
  {
   "cell_type": "code",
   "execution_count": 98,
   "id": "1480ff24-e13d-49a5-a20e-d9a176d006e6",
   "metadata": {},
   "outputs": [
    {
     "data": {
      "text/plain": [
       "3"
      ]
     },
     "execution_count": 98,
     "metadata": {},
     "output_type": "execute_result"
    }
   ],
   "source": [
    "round(3.2)"
   ]
  },
  {
   "cell_type": "code",
   "execution_count": 92,
   "id": "cc20de53-6f72-49b1-ac7b-e933bd0ee6d1",
   "metadata": {},
   "outputs": [
    {
     "name": "stdout",
     "output_type": "stream",
     "text": [
      "25000\n"
     ]
    }
   ],
   "source": [
    "sales = 100000\n",
    "total_commision = int(sales / 4)\n",
    "print(total_commision)\n"
   ]
  },
  {
   "cell_type": "code",
   "execution_count": 118,
   "id": "4eaeec8a-559c-418c-a9b5-51801d080c4c",
   "metadata": {},
   "outputs": [
    {
     "data": {
      "text/plain": [
       "True"
      ]
     },
     "execution_count": 118,
     "metadata": {},
     "output_type": "execute_result"
    }
   ],
   "source": [
    "sales.is_integer()"
   ]
  },
  {
   "cell_type": "code",
   "execution_count": 142,
   "id": "0f27b43b-439b-413c-b18f-08bde2e28f7e",
   "metadata": {},
   "outputs": [
    {
     "data": {
      "text/plain": [
       "'python'"
      ]
     },
     "execution_count": 142,
     "metadata": {},
     "output_type": "execute_result"
    }
   ],
   "source": [
    "word"
   ]
  },
  {
   "cell_type": "code",
   "execution_count": 104,
   "id": "d5475397-8e67-4ad5-9ab7-fcfc732f53a5",
   "metadata": {},
   "outputs": [
    {
     "data": {
      "text/plain": [
       "4"
      ]
     },
     "execution_count": 104,
     "metadata": {},
     "output_type": "execute_result"
    }
   ],
   "source": [
    "round(3.6)"
   ]
  },
  {
   "cell_type": "code",
   "execution_count": 94,
   "id": "f6c18683-ac9f-4257-af4e-141b0cafd857",
   "metadata": {},
   "outputs": [
    {
     "data": {
      "text/plain": [
       "4"
      ]
     },
     "execution_count": 94,
     "metadata": {},
     "output_type": "execute_result"
    }
   ],
   "source": [
    "int(4.5)"
   ]
  },
  {
   "cell_type": "code",
   "execution_count": null,
   "id": "0842f0c6-dd90-44f5-a2ba-eb343b5ea6b3",
   "metadata": {},
   "outputs": [],
   "source": []
  }
 ],
 "metadata": {
  "kernelspec": {
   "display_name": "Python 3 (ipykernel)",
   "language": "python",
   "name": "python3"
  },
  "language_info": {
   "codemirror_mode": {
    "name": "ipython",
    "version": 3
   },
   "file_extension": ".py",
   "mimetype": "text/x-python",
   "name": "python",
   "nbconvert_exporter": "python",
   "pygments_lexer": "ipython3",
   "version": "3.12.4"
  }
 },
 "nbformat": 4,
 "nbformat_minor": 5
}
