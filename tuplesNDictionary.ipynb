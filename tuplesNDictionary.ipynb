{
 "cells": [
  {
   "cell_type": "markdown",
   "id": "e92c206e-8ac9-43fc-88fd-a0e2ac1f70ac",
   "metadata": {},
   "source": [
    "# Tuples in Python\n",
    "* its immutable , ordered collecction of elements \n",
    "* defined by () "
   ]
  },
  {
   "cell_type": "code",
   "execution_count": 4,
   "id": "727e9be3-2f94-4812-ae3e-efde90f3670d",
   "metadata": {},
   "outputs": [
    {
     "data": {
      "text/plain": [
       "tuple"
      ]
     },
     "execution_count": 4,
     "metadata": {},
     "output_type": "execute_result"
    }
   ],
   "source": [
    "t1 = (1,2,3,4)\n",
    "type(t1)"
   ]
  },
  {
   "cell_type": "code",
   "execution_count": 6,
   "id": "7d346045-4110-4a4b-9c92-48e73f0a7f30",
   "metadata": {},
   "outputs": [
    {
     "name": "stdout",
     "output_type": "stream",
     "text": [
      "(1, 2, 3, 4)\n"
     ]
    }
   ],
   "source": [
    "print(t1)"
   ]
  },
  {
   "cell_type": "code",
   "execution_count": 8,
   "id": "d7c468a8-6ad1-493e-aade-00123a711b4d",
   "metadata": {},
   "outputs": [
    {
     "name": "stdout",
     "output_type": "stream",
     "text": [
      "(1, 'Hello', 3.14)\n"
     ]
    }
   ],
   "source": [
    "# Tle withh mixed data types\n",
    "my_tuple = (1,\"Hello\", 3.14)\n",
    "print(my_tuple)"
   ]
  },
  {
   "cell_type": "code",
   "execution_count": 10,
   "id": "61110e3a-480b-48d4-9370-d0d69732f938",
   "metadata": {},
   "outputs": [
    {
     "name": "stdout",
     "output_type": "stream",
     "text": [
      "()\n"
     ]
    }
   ],
   "source": [
    "# emplty tuple\n",
    "empty_tuple = ()\n",
    "print(empty_tuple)"
   ]
  },
  {
   "cell_type": "code",
   "execution_count": 12,
   "id": "ee1e90c6-ef09-46da-8567-22d253ed1ce9",
   "metadata": {},
   "outputs": [
    {
     "name": "stdout",
     "output_type": "stream",
     "text": [
      "(1,)\n"
     ]
    }
   ],
   "source": [
    "single_tuple = (1,)\n",
    "print(single_tuple)"
   ]
  },
  {
   "cell_type": "code",
   "execution_count": 16,
   "id": "68d496b2-02d1-40c0-8d89-862fa332efc5",
   "metadata": {},
   "outputs": [
    {
     "name": "stdout",
     "output_type": "stream",
     "text": [
      "41\n"
     ]
    }
   ],
   "source": [
    "int_tuple=(41)\n",
    "print(int_tuple)"
   ]
  },
  {
   "cell_type": "code",
   "execution_count": 20,
   "id": "41ec32ca-a11f-4705-a885-bebf8c12be65",
   "metadata": {},
   "outputs": [
    {
     "name": "stdout",
     "output_type": "stream",
     "text": [
      "(2, 3)\n"
     ]
    }
   ],
   "source": [
    "# nested tuple \n",
    "nested_tuple = (1,(2,3),4)\n",
    "print(nested_tuple[1])"
   ]
  },
  {
   "cell_type": "code",
   "execution_count": 22,
   "id": "4cb85064-b7ad-42ee-94aa-78a997eff077",
   "metadata": {},
   "outputs": [
    {
     "name": "stdout",
     "output_type": "stream",
     "text": [
      "2\n"
     ]
    }
   ],
   "source": [
    "print(nested_tuple[1][0])"
   ]
  },
  {
   "cell_type": "code",
   "execution_count": 24,
   "id": "334da3d1-db0b-4c1d-a408-b94c9ff860d7",
   "metadata": {},
   "outputs": [
    {
     "name": "stdout",
     "output_type": "stream",
     "text": [
      "John\n",
      "25\n",
      "Engineer\n"
     ]
    }
   ],
   "source": [
    "# packing a tuple\n",
    "person = (\"John\",25,\"Engineer\")\n",
    "# unpacking tuple\n",
    "name,age,profession = person\n",
    "print(name)\n",
    "print(age)\n",
    "print(profession)"
   ]
  },
  {
   "cell_type": "code",
   "execution_count": 45,
   "id": "69245274-b8ed-4e84-91af-f8b9c78f1c71",
   "metadata": {},
   "outputs": [
    {
     "ename": "TypeError",
     "evalue": "'tuple' object does not support item assignment",
     "output_type": "error",
     "traceback": [
      "\u001b[1;31m---------------------------------------------------------------------------\u001b[0m",
      "\u001b[1;31mTypeError\u001b[0m                                 Traceback (most recent call last)",
      "Cell \u001b[1;32mIn[45], line 3\u001b[0m\n\u001b[0;32m      1\u001b[0m \u001b[38;5;66;03m# immutabliity of Tuples\u001b[39;00m\n\u001b[0;32m      2\u001b[0m my_tuple \u001b[38;5;241m=\u001b[39m (\u001b[38;5;241m1\u001b[39m,\u001b[38;5;241m2\u001b[39m,\u001b[38;5;241m3\u001b[39m)\n\u001b[1;32m----> 3\u001b[0m my_tuple[\u001b[38;5;241m1\u001b[39m] \u001b[38;5;241m=\u001b[39m \u001b[38;5;241m222\u001b[39m\n",
      "\u001b[1;31mTypeError\u001b[0m: 'tuple' object does not support item assignment"
     ]
    }
   ],
   "source": [
    "# immutabliity of Tuples\n",
    "my_tuple = (1,2,3)\n",
    "my_tuple[1] = 222\n"
   ]
  },
  {
   "cell_type": "code",
   "execution_count": 61,
   "id": "2a8c271e-94cf-4d8c-b7f1-e6e37f620649",
   "metadata": {},
   "outputs": [
    {
     "name": "stdout",
     "output_type": "stream",
     "text": [
      "10\n",
      "20\n",
      "30\n",
      "40\n"
     ]
    }
   ],
   "source": [
    "my_tuple =(10,20,30,40)\n",
    "for value in my_tuple:\n",
    "    print(value)"
   ]
  },
  {
   "cell_type": "code",
   "execution_count": 35,
   "id": "2ebbd39b-6f3a-4bb4-abc2-b1666ff27ae8",
   "metadata": {},
   "outputs": [
    {
     "data": {
      "text/plain": [
       "(10, 20, 30)"
      ]
     },
     "execution_count": 35,
     "metadata": {},
     "output_type": "execute_result"
    }
   ],
   "source": [
    "# Slicing the values from tules\n",
    "my_tuple[0:3]"
   ]
  },
  {
   "cell_type": "code",
   "execution_count": 39,
   "id": "6d19eca6-2404-4f96-b1e1-d712f8e4185c",
   "metadata": {},
   "outputs": [
    {
     "data": {
      "text/plain": [
       "(10, 20)"
      ]
     },
     "execution_count": 39,
     "metadata": {},
     "output_type": "execute_result"
    }
   ],
   "source": [
    "my_tuple[:-2]"
   ]
  },
  {
   "cell_type": "code",
   "execution_count": 47,
   "id": "d9fb842c-c741-4835-8988-eec0e26ad45c",
   "metadata": {},
   "outputs": [],
   "source": [
    "my_tuple_cloning =my_tuple\n",
    "my_tuple_cloning\n",
    "my_tuple = my_tuple_cloning"
   ]
  },
  {
   "cell_type": "code",
   "execution_count": 55,
   "id": "f6651b39-5a44-418c-92ed-a57e106c9e36",
   "metadata": {},
   "outputs": [
    {
     "data": {
      "text/plain": [
       "(10, 20, 30, 40)"
      ]
     },
     "execution_count": 55,
     "metadata": {},
     "output_type": "execute_result"
    }
   ],
   "source": [
    "# my_tuple = (50,)\n",
    "my_tuple"
   ]
  },
  {
   "cell_type": "code",
   "execution_count": 59,
   "id": "57a870c2-e7c1-4fb1-af57-0040fef86b04",
   "metadata": {},
   "outputs": [
    {
     "data": {
      "text/plain": [
       "(50,)"
      ]
     },
     "execution_count": 59,
     "metadata": {},
     "output_type": "execute_result"
    }
   ],
   "source": [
    "my_tuple = (50,)\n",
    "my_tuple"
   ]
  },
  {
   "cell_type": "code",
   "execution_count": 51,
   "id": "e71a601a-e638-4099-a426-80bc4d0c6496",
   "metadata": {},
   "outputs": [
    {
     "data": {
      "text/plain": [
       "(1, 2, 3)"
      ]
     },
     "execution_count": 51,
     "metadata": {},
     "output_type": "execute_result"
    }
   ],
   "source": [
    "my_tuple_cloning"
   ]
  },
  {
   "cell_type": "code",
   "execution_count": 104,
   "id": "3048e520-ead2-4f77-87b5-22265d5422ed",
   "metadata": {},
   "outputs": [
    {
     "data": {
      "text/plain": [
       "4"
      ]
     },
     "execution_count": 104,
     "metadata": {},
     "output_type": "execute_result"
    }
   ],
   "source": [
    "len(my_tuple)"
   ]
  },
  {
   "cell_type": "markdown",
   "id": "1cedc0bd-d788-49db-b939-31926b053830",
   "metadata": {},
   "source": [
    "# when to use tuples ?\n",
    "1. when data should not be modified\n",
    "2. Faster than lists\n",
    "3. Use as Dictionary keys"
   ]
  },
  {
   "cell_type": "code",
   "execution_count": 33,
   "id": "0cc18081-d551-4b2f-a7e3-81d6cab9b9f4",
   "metadata": {},
   "outputs": [
    {
     "name": "stdout",
     "output_type": "stream",
     "text": [
      "(15, 50)\n",
      "Sum 15\n",
      "Product 50\n"
     ]
    }
   ],
   "source": [
    "# retur multiple values from a function\n",
    "def calculate(a,b):\n",
    "    return a+b,a * b\n",
    "result = calculate(5,10)\n",
    "print(result)\n",
    "sum_result, product = result\n",
    "print(\"Sum\", sum_result)\n",
    "print(\"Product\", product)"
   ]
  },
  {
   "cell_type": "code",
   "execution_count": null,
   "id": "7df14ab6-0564-4ec8-91f2-2987ab8d29ab",
   "metadata": {},
   "outputs": [],
   "source": []
  },
  {
   "cell_type": "markdown",
   "id": "89f12ad3-d394-4b64-894a-332853723650",
   "metadata": {},
   "source": [
    "# Dictionary\n",
    "# defined by key, value  pairs\n",
    "# dictionary is mutable\n",
    "# Each key in the  dictionary is unique and immutable ( strings,numbers, tuples)\n",
    "\n",
    "# syntax for dictionary \n",
    "my_dict = {\n",
    "    \"key1\":\"value1\",\n",
    "    \"key2\":\"Value2\"\n",
    "}\n"
   ]
  },
  {
   "cell_type": "code",
   "execution_count": 66,
   "id": "b8c79ccb-4998-4a35-956c-e7089eab4573",
   "metadata": {},
   "outputs": [
    {
     "name": "stdout",
     "output_type": "stream",
     "text": [
      "{'name': 'John', 'age': 30, 'is_employed': True}\n"
     ]
    }
   ],
   "source": [
    "person = {\n",
    "    \"name\":\"John\",\n",
    "    \"age\":30,\n",
    "    \"is_employed\":True\n",
    "}\n",
    "print(person)"
   ]
  },
  {
   "cell_type": "code",
   "execution_count": 68,
   "id": "431f8b00-4902-45fe-aaba-674f84ff963b",
   "metadata": {},
   "outputs": [
    {
     "name": "stdout",
     "output_type": "stream",
     "text": [
      "John\n"
     ]
    }
   ],
   "source": [
    "# Accessing values\n",
    "print(person[\"name\"])"
   ]
  },
  {
   "cell_type": "code",
   "execution_count": 74,
   "id": "35a3af52-7978-4205-a3f1-ae0b3aa6cb24",
   "metadata": {},
   "outputs": [
    {
     "data": {
      "text/plain": [
       "dict_keys(['name', 'age', 'is_employed'])"
      ]
     },
     "execution_count": 74,
     "metadata": {},
     "output_type": "execute_result"
    }
   ],
   "source": [
    "person.keys()"
   ]
  },
  {
   "cell_type": "code",
   "execution_count": 76,
   "id": "ab7f7f7e-3e08-4545-86bd-b82e0d1558d5",
   "metadata": {},
   "outputs": [
    {
     "data": {
      "text/plain": [
       "dict_values(['John', 30, True])"
      ]
     },
     "execution_count": 76,
     "metadata": {},
     "output_type": "execute_result"
    }
   ],
   "source": [
    "person.values()"
   ]
  },
  {
   "cell_type": "code",
   "execution_count": 106,
   "id": "a77a514d-1910-46b8-92da-19f4e2dfb653",
   "metadata": {},
   "outputs": [
    {
     "data": {
      "text/plain": [
       "{'name': 'Alice', 'age': 31, 'City': 'New York'}"
      ]
     },
     "execution_count": 106,
     "metadata": {},
     "output_type": "execute_result"
    }
   ],
   "source": [
    "person[\"name\"] = \"Alice\"\n",
    "person"
   ]
  },
  {
   "cell_type": "code",
   "execution_count": 108,
   "id": "286f650a-b6e4-45f1-a5e5-ed0cabb97bb6",
   "metadata": {},
   "outputs": [
    {
     "data": {
      "text/plain": [
       "{'name': 'name1', 'age': 31, 'City': 'New York'}"
      ]
     },
     "execution_count": 108,
     "metadata": {},
     "output_type": "execute_result"
    }
   ],
   "source": [
    "person[\"name\"] = \"name1\"\n",
    "person"
   ]
  },
  {
   "cell_type": "code",
   "execution_count": 78,
   "id": "df78af9d-e0b1-4ef7-b7a7-67da5ef61b3a",
   "metadata": {},
   "outputs": [
    {
     "name": "stdout",
     "output_type": "stream",
     "text": [
      "John\n"
     ]
    }
   ],
   "source": [
    "# using get() method\n",
    "print(person.get(\"name\"))"
   ]
  },
  {
   "cell_type": "code",
   "execution_count": 82,
   "id": "14a6ddfd-3a85-47c3-96dc-42fbb2553547",
   "metadata": {},
   "outputs": [
    {
     "name": "stdout",
     "output_type": "stream",
     "text": [
      "{'name': 'John', 'age': 31, 'is_employed': True, 'City': 'New York'}\n"
     ]
    }
   ],
   "source": [
    "# Adding and modifyng items \n",
    "person[\"City\"] = \"New York\"\n",
    "# modifying existing values\n",
    "person['age']= 31\n",
    "print(person)"
   ]
  },
  {
   "cell_type": "code",
   "execution_count": 84,
   "id": "c75ca3bd-3fe8-4f7b-ab3f-9eff9c82a564",
   "metadata": {},
   "outputs": [
    {
     "data": {
      "text/plain": [
       "{'name': 'John', 'age': 31, 'City': 'New York'}"
      ]
     },
     "execution_count": 84,
     "metadata": {},
     "output_type": "execute_result"
    }
   ],
   "source": [
    "# removing items\n",
    "person.pop(\"is_employed\")\n",
    "person"
   ]
  },
  {
   "cell_type": "code",
   "execution_count": 86,
   "id": "68e507d7-71d2-4f3d-b8cf-104481cc43c1",
   "metadata": {},
   "outputs": [
    {
     "name": "stdout",
     "output_type": "stream",
     "text": [
      "{'Math': 95, 'English': 88, 'Science': 92}\n"
     ]
    }
   ],
   "source": [
    "# Iterating the dcitionary \n",
    "\n",
    "scores = {\"Math\":95, \"English\":88, \"Science\":92}\n",
    "print(scores)"
   ]
  },
  {
   "cell_type": "code",
   "execution_count": 96,
   "id": "d43e3aea-2a59-4194-88a2-3763f6126d4c",
   "metadata": {},
   "outputs": [
    {
     "name": "stdout",
     "output_type": "stream",
     "text": [
      "Math\n",
      "English\n",
      "Science\n",
      "95\n",
      "88\n",
      "92\n",
      "Math:95\n",
      "English:88\n",
      "Science:92\n"
     ]
    }
   ],
   "source": [
    "\n",
    "# iterate through keys\n",
    "for subject in scores:\n",
    "    print(subject)\n",
    "# iterate through keys\n",
    "for score in scores.values():\n",
    "    print(score)\n",
    "# iterate through key value pairs\n",
    "for subject, score in scores.items():\n",
    "    print(f\"{subject}:{score}\")\n"
   ]
  },
  {
   "cell_type": "code",
   "execution_count": 100,
   "id": "13523b6d-bd5c-4669-bd1d-eac0da486538",
   "metadata": {},
   "outputs": [
    {
     "name": "stdout",
     "output_type": "stream",
     "text": [
      "90\n"
     ]
    }
   ],
   "source": [
    "# nested_dictionary \n",
    "student = {\n",
    "    \"name\":\"John\",\n",
    "    \"grades\":{\"Math\":90, \"English\":95}, \"is_active\":True\n",
    "}\n",
    "print(student[\"grades\"][\"Math\"])"
   ]
  },
  {
   "cell_type": "code",
   "execution_count": 102,
   "id": "aabde3a1-91a0-4c18-9c67-f3e3bd19f576",
   "metadata": {},
   "outputs": [
    {
     "data": {
      "text/plain": [
       "3"
      ]
     },
     "execution_count": 102,
     "metadata": {},
     "output_type": "execute_result"
    }
   ],
   "source": [
    "len(person)"
   ]
  },
  {
   "cell_type": "code",
   "execution_count": 110,
   "id": "deccb300-3511-4866-92c7-70152f31dcfc",
   "metadata": {},
   "outputs": [
    {
     "name": "stdout",
     "output_type": "stream",
     "text": [
      "True\n"
     ]
    }
   ],
   "source": [
    "print(\"name\" in student)"
   ]
  },
  {
   "cell_type": "code",
   "execution_count": 112,
   "id": "b5d84d2e-260c-4140-b722-8d5d970cca59",
   "metadata": {},
   "outputs": [
    {
     "name": "stdout",
     "output_type": "stream",
     "text": [
      "{}\n"
     ]
    }
   ],
   "source": [
    "#clear all the items\n",
    "person.clear()\n",
    "print(person)"
   ]
  },
  {
   "cell_type": "code",
   "execution_count": 118,
   "id": "1a752f2d-78e0-415d-bf72-742e9c423153",
   "metadata": {},
   "outputs": [
    {
     "name": "stdout",
     "output_type": "stream",
     "text": [
      "['apple', 'banana', 'apple', 'orange', 'banana', 'apple', 'banana']\n",
      "{'apple': 3, 'banana': 3, 'orange': 1}\n"
     ]
    }
   ],
   "source": [
    "# word frequency counter\n",
    "text = \"apple banana apple orange banana apple banana\"\n",
    "words =text.split()\n",
    "print(words)\n",
    "word_count = {}\n",
    "for word in words:\n",
    "    word_count[word] = word_count.get(word,0) + 1\n",
    "print(word_count)\n"
   ]
  },
  {
   "cell_type": "code",
   "execution_count": null,
   "id": "79f73562-d886-41fa-bea4-87cfc5fcd943",
   "metadata": {},
   "outputs": [],
   "source": []
  }
 ],
 "metadata": {
  "kernelspec": {
   "display_name": "Python 3 (ipykernel)",
   "language": "python",
   "name": "python3"
  },
  "language_info": {
   "codemirror_mode": {
    "name": "ipython",
    "version": 3
   },
   "file_extension": ".py",
   "mimetype": "text/x-python",
   "name": "python",
   "nbconvert_exporter": "python",
   "pygments_lexer": "ipython3",
   "version": "3.12.4"
  }
 },
 "nbformat": 4,
 "nbformat_minor": 5
}
